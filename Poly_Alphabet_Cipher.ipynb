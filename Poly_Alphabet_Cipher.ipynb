{
  "nbformat": 4,
  "nbformat_minor": 0,
  "metadata": {
    "colab": {
      "provenance": [],
      "authorship_tag": "ABX9TyNm8Rg4n1BNIwLDanBSelFU",
      "include_colab_link": true
    },
    "kernelspec": {
      "name": "python3",
      "display_name": "Python 3"
    },
    "language_info": {
      "name": "python"
    }
  },
  "cells": [
    {
      "cell_type": "markdown",
      "metadata": {
        "id": "view-in-github",
        "colab_type": "text"
      },
      "source": [
        "<a href=\"https://colab.research.google.com/github/Indri211/UAS_Kriptografi/blob/main/Poly_Alphabet_Cipher.ipynb\" target=\"_parent\"><img src=\"https://colab.research.google.com/assets/colab-badge.svg\" alt=\"Open In Colab\"/></a>"
      ]
    },
    {
      "cell_type": "code",
      "execution_count": 1,
      "metadata": {
        "colab": {
          "base_uri": "https://localhost:8080/"
        },
        "id": "xkmDXwVKCMzP",
        "outputId": "cf3ba8fa-3c55-4edf-b063-486e8994feb9"
      },
      "outputs": [
        {
          "output_type": "stream",
          "name": "stdout",
          "text": [
            "Masukkan teks: Indri Lestari\n",
            "Masukkan kunci: palestina\n",
            "\n",
            "Teks Asli: INDRILESTARI\n",
            "Teks Terenkripsi: XNOVAEMFTPRT\n",
            "Teks Terdekripsi: INDRILESTARI\n"
          ]
        }
      ],
      "source": [
        "def vigenere_encrypt(plain_text, key):\n",
        "    encrypted_text = ''\n",
        "    key_repeated = (key * (len(plain_text) // len(key) + 1))[:len(plain_text)]\n",
        "\n",
        "    for i in range(len(plain_text)):\n",
        "        if plain_text[i].isalpha():\n",
        "            shift = ord(key_repeated[i].upper()) - ord('A')\n",
        "            if plain_text[i].isupper():\n",
        "                encrypted_text += chr((ord(plain_text[i]) + shift - ord('A')) % 26 + ord('A'))\n",
        "            else:\n",
        "                encrypted_text += chr((ord(plain_text[i]) + shift - ord('a')) % 26 + ord('a'))\n",
        "        else:\n",
        "            encrypted_text += plain_text[i]\n",
        "\n",
        "    return encrypted_text\n",
        "\n",
        "def vigenere_decrypt(encrypted_text, key):\n",
        "    decrypted_text = ''\n",
        "    key_repeated = (key * (len(encrypted_text) // len(key) + 1))[:len(encrypted_text)]\n",
        "\n",
        "    for i in range(len(encrypted_text)):\n",
        "        if encrypted_text[i].isalpha():\n",
        "            shift = ord(key_repeated[i].upper()) - ord('A')\n",
        "            if encrypted_text[i].isupper():\n",
        "                decrypted_text += chr((ord(encrypted_text[i]) - shift - ord('A')) % 26 + ord('A'))\n",
        "            else:\n",
        "                decrypted_text += chr((ord(encrypted_text[i]) - shift - ord('a')) % 26 + ord('a'))\n",
        "        else:\n",
        "            decrypted_text += encrypted_text[i]\n",
        "\n",
        "    return decrypted_text\n",
        "\n",
        "# Input dari pengguna\n",
        "plain_text = input(\"Masukkan teks: \").replace(\" \", \"\").upper()\n",
        "key = input(\"Masukkan kunci: \").replace(\" \", \"\").upper()\n",
        "\n",
        "encrypted_text = vigenere_encrypt(plain_text, key)\n",
        "decrypted_text = vigenere_decrypt(encrypted_text, key)\n",
        "\n",
        "print(\"\\nTeks Asli:\", plain_text)\n",
        "print(\"Teks Terenkripsi:\", encrypted_text)\n",
        "print(\"Teks Terdekripsi:\", decrypted_text)"
      ]
    }
  ]
}